{
 "cells": [
  {
   "cell_type": "code",
   "execution_count": 28,
   "metadata": {},
   "outputs": [],
   "source": [
    "import os, sys\n",
    "import numpy as np\n",
    "import pandas as pd\n",
    "import matplotlib.pyplot as plt\n",
    "\n",
    "filepath = os.path.abspath('')\n",
    "utilpath = f'{filepath}/../util/'\n",
    "sys.path.append(utilpath)\n",
    "\n",
    "from melbourne import Melbourne\n",
    "\n",
    "melb_data = pd.read_hdf(f'{filepath}/../data/melb_data.h5')\n",
    "\n",
    "params = [\n",
    "    {\n",
    "        'fit_intercept': True,\n",
    "    },{\n",
    "        'fit_intercept': False,\n",
    "    }\n",
    "]\n",
    "param_names = list(params[0].keys())"
   ]
  },
  {
   "cell_type": "code",
   "execution_count": 29,
   "metadata": {},
   "outputs": [
    {
     "name": "stdout",
     "output_type": "stream",
     "text": [
      "\n",
      "Optimal parameter configuration with minimum mean_squared_error:\n",
      "\n",
      "param_opt     =     fit_intercept: True\n",
      "\n"
     ]
    },
    {
     "data": {
      "text/html": [
       "<div>\n",
       "<style scoped>\n",
       "    .dataframe tbody tr th:only-of-type {\n",
       "        vertical-align: middle;\n",
       "    }\n",
       "\n",
       "    .dataframe tbody tr th {\n",
       "        vertical-align: top;\n",
       "    }\n",
       "\n",
       "    .dataframe thead th {\n",
       "        text-align: right;\n",
       "    }\n",
       "</style>\n",
       "<table border=\"1\" class=\"dataframe\">\n",
       "  <thead>\n",
       "    <tr style=\"text-align: right;\">\n",
       "      <th></th>\n",
       "      <th>fit_intercept</th>\n",
       "      <th>mean_squared_error</th>\n",
       "    </tr>\n",
       "  </thead>\n",
       "  <tbody>\n",
       "    <tr>\n",
       "      <th>0</th>\n",
       "      <td>True</td>\n",
       "      <td>2.938838e+11</td>\n",
       "    </tr>\n",
       "    <tr>\n",
       "      <th>1</th>\n",
       "      <td>False</td>\n",
       "      <td>2.952581e+11</td>\n",
       "    </tr>\n",
       "  </tbody>\n",
       "</table>\n",
       "</div>"
      ],
      "text/plain": [
       "   fit_intercept  mean_squared_error\n",
       "0           True        2.938838e+11\n",
       "1          False        2.952581e+11"
      ]
     },
     "execution_count": 29,
     "metadata": {},
     "output_type": "execute_result"
    }
   ],
   "source": [
    "from sklearn import linear_model\n",
    "from sklearn.metrics import mean_squared_error, mean_absolute_error\n",
    "\n",
    "linear_feature_candidates = [\n",
    "    'Rooms', \n",
    "    'Bedroom2',\n",
    "    'Bathroom',\n",
    "    'Car',\n",
    "    'Landsize',\n",
    "    'BuildingArea',\n",
    "    'Distance',\n",
    "    'Price',\n",
    "]\n",
    "\n",
    "melbourne = Melbourne(melb_data.loc[:, linear_feature_candidates], frac=1)\n",
    "\n",
    "# metric = mean_absolute_error\n",
    "metric = mean_squared_error\n",
    "melbourne.over_under_fit(algorithm=linear_model.LinearRegression, metric=metric, params=params)\n",
    "\n",
    "data = dict([\n",
    "    (param_name, [ param[param_name] for param in params])\n",
    "    for param_name in param_names\n",
    "])\n",
    "data[metric.__name__] = melbourne.errors\n",
    "\n",
    "param_df = pd.DataFrame.from_dict(data)\n",
    "\n",
    "param_argmin = param_df[metric.__name__].argmin()\n",
    "param_argmax = param_df[metric.__name__].argmax()\n",
    "# param_argmin = df.iloc[ [ df[metric.__name__].argmin() ] ]\n",
    "# WARNING:  Don't pass the argmin as an integer instead of a list containing \n",
    "#           that integer, i. e. don't do\n",
    "#\n",
    "#               param_argmin = df.iloc[ df[metric.__name__].argmin() ]\n",
    "#\n",
    "#           because then `param_argmin` will be a `pandas.Series` and not a\n",
    "#           `pandas.DataFrame` in which case the dtype information seems to\n",
    "#           have to be consistent across all entries. This however breaks the \n",
    "#           usage of **param_opt as **kwargs in model initialization.\n",
    "\n",
    "param_opt = dict([\n",
    "    (param_name, param_df.loc[param_argmin, param_name])\n",
    "    for param_name in param_names\n",
    "])\n",
    "\n",
    "print(f'''\n",
    "Optimal parameter configuration with minimum {metric.__name__}:\n",
    "\n",
    "param_opt     =     {'    '.join([ str(f'{p}: {v}') for p, v in param_opt.items()])}\n",
    "''')\n",
    "\n",
    "param_df"
   ]
  },
  {
   "cell_type": "code",
   "execution_count": 31,
   "metadata": {},
   "outputs": [
    {
     "data": {
      "image/png": "[encoded data removed]",
      "text/plain": [
       "<Figure size 1000x300 with 2 Axes>"
      ]
     },
     "metadata": {},
     "output_type": "display_data"
    }
   ],
   "source": [
    "import numpy as np\n",
    "import matplotlib.pyplot as plt\n",
    "from matplotlib.ticker import MultipleLocator, MaxNLocator\n",
    "from matplotlib.ticker import ScalarFormatter, FuncFormatter, PercentFormatter\n",
    "\n",
    "max_mean_absolute_error = param_df[metric.__name__].max(axis=0)\n",
    "min_mean_absolute_error = param_df[metric.__name__].min(axis=0)\n",
    "\n",
    "fig, axes = plt.subplots(1, 2, figsize=(10,3))\n",
    "\n",
    "ax = axes[0]\n",
    "\n",
    "ax.hist(melbourne.errors, bins=50)\n",
    "\n",
    "exponent = np.floor(np.log10(max_mean_absolute_error - min_mean_absolute_error))\n",
    "base10 = 10 ** exponent\n",
    "\n",
    "ax.set_title(f'Frequencies of {metric.__name__}')\n",
    "ax.xaxis.set_major_locator(MultipleLocator(base=base10 / 4))\n",
    "ax.xaxis.set_major_formatter(FuncFormatter(lambda x, _: f'{x / base10 :,.1f}'))\n",
    "ax.set_xlabel(f'{metric.__name__} in $10^{{{exponent:.0f}}}$')\n",
    "ax.yaxis.set_major_locator(MultipleLocator(10))\n",
    "ax.tick_params(axis='x', rotation=45)\n",
    "\n",
    "ax = axes[1]\n",
    "\n",
    "r2_argbest, r2_argworst = np.argmax(melbourne.r2_scores), np.argmin(melbourne.r2_scores)\n",
    "r2_best, r2_worst = melbourne.r2_scores[r2_argbest], melbourne.r2_scores[r2_argworst]\n",
    "assert param_argmin == r2_argbest and param_argmax == r2_argworst\n",
    "\n",
    "ax.set_title(f'Frequencies of $R^2$ scores for the models tried')\n",
    "ax.hist(melbourne.r2_scores, bins=50)\n",
    "\n",
    "ax.xaxis.set_major_locator(MultipleLocator(base=.0005))\n",
    "ax.xaxis.set_major_formatter(PercentFormatter(1, decimals=1))\n",
    "ax.set_xlabel(f'$R^2$ scores')\n",
    "ax.tick_params(axis='x', rotation=45)\n",
    "\n",
    "fig.tight_layout()\n",
    "plt.show()"
   ]
  },
  {
   "cell_type": "markdown",
   "metadata": {},
   "source": [
    "If the $R^2$ scores are within a similar percentage range, we can infer that the parameters are not a decisive game changer for a prediction.\n",
    "We must therefore change the model."
   ]
  },
  {
   "cell_type": "code",
   "execution_count": 15,
   "metadata": {},
   "outputs": [
    {
     "name": "stdout",
     "output_type": "stream",
     "text": [
      "\n",
      "prediction-to-actual ratios:\n",
      "      \n",
      "0.47393036888822504\n",
      "\n",
      "mean of prediction-to-actual ratios:\n",
      "\n",
      "1.0011475532212692\n",
      "\n"
     ]
    }
   ],
   "source": [
    "# Explore the DecisionTreeRegressor with parameters performing best on the test \n",
    "# set in more detail.\n",
    "\n",
    "# Train the best model on all data, not just the training data:\n",
    "\n",
    "best_melbourne_model = linear_model.LinearRegression(**param_opt)\n",
    "\n",
    "best_melbourne_model.fit(melbourne.X, melbourne.y)\n",
    "\n",
    "# ... and predict\n",
    "\n",
    "best_melbourne_model.fit(melbourne.train_X, melbourne.train_y)\n",
    "\n",
    "predict_y = best_melbourne_model.predict(melbourne.test_X)\n",
    "\n",
    "if metric.__name__ == 'mean_squared_error':\n",
    "    prediction_to_actual_ratio = metric(melbourne.test_y, predict_y) ** .5 / melbourne.mean_price\n",
    "elif metric.__name__ == 'mean_absolute_error':\n",
    "    prediction_to_actual_ratio = metric(melbourne.test_y, predict_y) / melbourne.mean_price\n",
    "\n",
    "print(f'''\n",
    "prediction-to-actual ratios:\n",
    "      \n",
    "{prediction_to_actual_ratio}\n",
    "\n",
    "mean of prediction-to-actual ratios:\n",
    "\n",
    "{predict_y.mean(axis=0) / melbourne.mean_price}\n",
    "''')"
   ]
  }
 ],
 "metadata": {
  "kernelspec": {
   "display_name": "Python 3",
   "language": "python",
   "name": "python3"
  },
  "language_info": {
   "codemirror_mode": {
    "name": "ipython",
    "version": 3
   },
   "file_extension": ".py",
   "mimetype": "text/x-python",
   "name": "python",
   "nbconvert_exporter": "python",
   "pygments_lexer": "ipython3",
   "version": "3.11.5"
  },
  "orig_nbformat": 4
 },
 "nbformat": 4,
 "nbformat_minor": 2
}
